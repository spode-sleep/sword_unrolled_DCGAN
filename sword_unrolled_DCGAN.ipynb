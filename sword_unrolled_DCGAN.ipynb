{
  "nbformat": 4,
  "nbformat_minor": 0,
  "metadata": {
    "accelerator": "GPU",
    "colab": {
      "name": "sword_unrolled_DCGAN (2).ipynb",
      "provenance": [],
      "collapsed_sections": [],
      "machine_shape": "hm"
    },
    "kernelspec": {
      "display_name": "Python 3",
      "language": "python",
      "name": "python3"
    },
    "language_info": {
      "codemirror_mode": {
        "name": "ipython",
        "version": 3
      },
      "file_extension": ".py",
      "mimetype": "text/x-python",
      "name": "python",
      "nbconvert_exporter": "python",
      "pygments_lexer": "ipython3",
      "version": "3.7.7"
    }
  },
  "cells": [
    {
      "cell_type": "markdown",
      "metadata": {
        "id": "0YgX2rKXY38e"
      },
      "source": [
        "Connect Drive"
      ]
    },
    {
      "cell_type": "code",
      "metadata": {
        "id": "xzLBMTJQY65K",
        "colab": {
          "base_uri": "https://localhost:8080/",
          "height": 35
        },
        "outputId": "282bd9fa-7406-44c7-c479-f225db9cd722"
      },
      "source": [
        "from google.colab import drive\n",
        "drive.mount('/content/drive')"
      ],
      "execution_count": null,
      "outputs": [
        {
          "output_type": "stream",
          "text": [
            "Mounted at /content/drive\n"
          ],
          "name": "stdout"
        }
      ]
    },
    {
      "cell_type": "markdown",
      "metadata": {
        "id": "XCh30f1OsWLZ"
      },
      "source": [
        "Extract"
      ]
    },
    {
      "cell_type": "code",
      "metadata": {
        "id": "z02QanbvuD6H",
        "colab": {
          "base_uri": "https://localhost:8080/",
          "height": 391
        },
        "outputId": "36417665-86ac-431d-ba84-f1fde1b81395"
      },
      "source": [
        "!pip install pyunpack\n",
        "!pip install patool"
      ],
      "execution_count": null,
      "outputs": [
        {
          "output_type": "stream",
          "text": [
            "Collecting pyunpack\n",
            "  Downloading https://files.pythonhosted.org/packages/33/fd/4b64817a1d82df78553ceb1bfc5a2d7ac162da8667be586430fab9db5deb/pyunpack-0.2.1-py2.py3-none-any.whl\n",
            "Collecting entrypoint2\n",
            "  Downloading https://files.pythonhosted.org/packages/46/0a/6156f1bc14a44094cff75bb6ecefe1f8e8a12cfff66379ba3d52d0916c49/entrypoint2-0.2.1-py2.py3-none-any.whl\n",
            "Collecting easyprocess\n",
            "  Downloading https://files.pythonhosted.org/packages/48/3c/75573613641c90c6d094059ac28adb748560d99bd27ee6f80cce398f404e/EasyProcess-0.3-py2.py3-none-any.whl\n",
            "Collecting argparse\n",
            "  Downloading https://files.pythonhosted.org/packages/f2/94/3af39d34be01a24a6e65433d19e107099374224905f1e0cc6bbe1fd22a2f/argparse-1.4.0-py2.py3-none-any.whl\n",
            "Installing collected packages: argparse, entrypoint2, easyprocess, pyunpack\n",
            "Successfully installed argparse-1.4.0 easyprocess-0.3 entrypoint2-0.2.1 pyunpack-0.2.1\n"
          ],
          "name": "stdout"
        },
        {
          "output_type": "display_data",
          "data": {
            "application/vnd.colab-display-data+json": {
              "pip_warning": {
                "packages": [
                  "argparse"
                ]
              }
            }
          },
          "metadata": {
            "tags": []
          }
        },
        {
          "output_type": "stream",
          "text": [
            "Collecting patool\n",
            "\u001b[?25l  Downloading https://files.pythonhosted.org/packages/43/94/52243ddff508780dd2d8110964320ab4851134a55ab102285b46e740f76a/patool-1.12-py2.py3-none-any.whl (77kB)\n",
            "\r\u001b[K     |████▎                           | 10kB 32.8MB/s eta 0:00:01\r\u001b[K     |████████▌                       | 20kB 2.8MB/s eta 0:00:01\r\u001b[K     |████████████▊                   | 30kB 3.8MB/s eta 0:00:01\r\u001b[K     |█████████████████               | 40kB 4.1MB/s eta 0:00:01\r\u001b[K     |█████████████████████▏          | 51kB 3.3MB/s eta 0:00:01\r\u001b[K     |█████████████████████████▍      | 61kB 3.7MB/s eta 0:00:01\r\u001b[K     |█████████████████████████████▋  | 71kB 4.0MB/s eta 0:00:01\r\u001b[K     |████████████████████████████████| 81kB 3.3MB/s \n"
          ],
          "name": "stdout"
        }
      ]
    },
    {
      "cell_type": "code",
      "metadata": {
        "id": "9Cw9qkLFsV2A"
      },
      "source": [
        "from pyunpack import Archive\n",
        "#Archive('swords.7z').extractall(\"./\")\n",
        "Archive('./drive/My Drive/ds_swords.7z').extractall(\"./ds_swords\")"
      ],
      "execution_count": null,
      "outputs": []
    },
    {
      "cell_type": "markdown",
      "metadata": {
        "id": "d0fFLoLYr1G5"
      },
      "source": [
        "Augumentation generation"
      ]
    },
    {
      "cell_type": "code",
      "metadata": {
        "id": "H9Nv2X0nrwsv",
        "colab": {
          "base_uri": "https://localhost:8080/",
          "height": 582
        },
        "outputId": "d56f0edc-49eb-4385-dd9c-fe30e2d07fd1"
      },
      "source": [
        "!pip install git+https://github.com/aleju/imgaug.git"
      ],
      "execution_count": null,
      "outputs": [
        {
          "output_type": "stream",
          "text": [
            "Collecting git+https://github.com/aleju/imgaug.git\n",
            "  Cloning https://github.com/aleju/imgaug.git to /tmp/pip-req-build-bgqhzrcu\n",
            "  Running command git clone -q https://github.com/aleju/imgaug.git /tmp/pip-req-build-bgqhzrcu\n",
            "Requirement already satisfied: six in /usr/local/lib/python3.6/dist-packages (from imgaug==0.4.0) (1.12.0)\n",
            "Requirement already satisfied: numpy>=1.15 in /usr/local/lib/python3.6/dist-packages (from imgaug==0.4.0) (1.18.5)\n",
            "Requirement already satisfied: scipy in /usr/local/lib/python3.6/dist-packages (from imgaug==0.4.0) (1.4.1)\n",
            "Requirement already satisfied: Pillow in /usr/local/lib/python3.6/dist-packages (from imgaug==0.4.0) (7.0.0)\n",
            "Requirement already satisfied: matplotlib in /usr/local/lib/python3.6/dist-packages (from imgaug==0.4.0) (3.2.2)\n",
            "Requirement already satisfied: scikit-image>=0.14.2 in /usr/local/lib/python3.6/dist-packages (from imgaug==0.4.0) (0.16.2)\n",
            "Requirement already satisfied: opencv-python in /usr/local/lib/python3.6/dist-packages (from imgaug==0.4.0) (4.1.2.30)\n",
            "Requirement already satisfied: Shapely in /usr/local/lib/python3.6/dist-packages (from imgaug==0.4.0) (1.7.0)\n",
            "Requirement already satisfied: imageio in /usr/local/lib/python3.6/dist-packages (from imgaug==0.4.0) (2.4.1)\n",
            "Requirement already satisfied: cycler>=0.10 in /usr/local/lib/python3.6/dist-packages (from matplotlib->imgaug==0.4.0) (0.10.0)\n",
            "Requirement already satisfied: kiwisolver>=1.0.1 in /usr/local/lib/python3.6/dist-packages (from matplotlib->imgaug==0.4.0) (1.2.0)\n",
            "Requirement already satisfied: pyparsing!=2.0.4,!=2.1.2,!=2.1.6,>=2.0.1 in /usr/local/lib/python3.6/dist-packages (from matplotlib->imgaug==0.4.0) (2.4.7)\n",
            "Requirement already satisfied: python-dateutil>=2.1 in /usr/local/lib/python3.6/dist-packages (from matplotlib->imgaug==0.4.0) (2.8.1)\n",
            "Requirement already satisfied: PyWavelets>=0.4.0 in /usr/local/lib/python3.6/dist-packages (from scikit-image>=0.14.2->imgaug==0.4.0) (1.1.1)\n",
            "Requirement already satisfied: networkx>=2.0 in /usr/local/lib/python3.6/dist-packages (from scikit-image>=0.14.2->imgaug==0.4.0) (2.4)\n",
            "Requirement already satisfied: decorator>=4.3.0 in /usr/local/lib/python3.6/dist-packages (from networkx>=2.0->scikit-image>=0.14.2->imgaug==0.4.0) (4.4.2)\n",
            "Building wheels for collected packages: imgaug\n",
            "  Building wheel for imgaug (setup.py) ... \u001b[?25l\u001b[?25hdone\n",
            "  Created wheel for imgaug: filename=imgaug-0.4.0-cp36-none-any.whl size=971107 sha256=3e5cb0f21116464960c10e4c864ed2ca25bff55fadcbadfec8062e716ad0b714\n",
            "  Stored in directory: /tmp/pip-ephem-wheel-cache-xlzu0cz5/wheels/65/3d/94/ee32cbeaa29c473a4db74c2d21904ac747311fdca4732665f0\n",
            "Successfully built imgaug\n",
            "\u001b[31mERROR: albumentations 0.1.12 has requirement imgaug<0.2.7,>=0.2.5, but you'll have imgaug 0.4.0 which is incompatible.\u001b[0m\n",
            "Installing collected packages: imgaug\n",
            "  Found existing installation: imgaug 0.2.9\n",
            "    Uninstalling imgaug-0.2.9:\n",
            "      Successfully uninstalled imgaug-0.2.9\n",
            "Successfully installed imgaug-0.4.0\n"
          ],
          "name": "stdout"
        }
      ]
    },
    {
      "cell_type": "code",
      "metadata": {
        "id": "L-ICij66sD7u",
        "colab": {
          "base_uri": "https://localhost:8080/",
          "height": 243
        },
        "outputId": "38c05387-8718-47f9-82d4-17b285543d65"
      },
      "source": [
        "from PIL import Image\n",
        "import numpy as np\n",
        "import os\n",
        "import imgaug.augmenters as iaa\n",
        "import matplotlib.pyplot as plt\n",
        "\n",
        "'''\n",
        "w = []\n",
        "h = []\n",
        "for filename in os.listdir('./swords'):\n",
        "    img = Image.open('./swords/'+filename)\n",
        "    w.append(img.size[1])\n",
        "    h.append(img.size[0])\n",
        "\n",
        "print(np.median(h), np.median(w))\n",
        "'''\n",
        "class Augmenter:\n",
        "\n",
        "    def __init__(self, inDirPath, outDirPath):\n",
        "        imagesNotResized = self._getImages(inDirPath)\n",
        "        #self.h, self.w = self._getSizeMedians(imagesNotResized)\n",
        "        self.h, self.w = 128, 32\n",
        "        self.images = self._toSameFormat(imagesNotResized)\n",
        "        self.outDirPath = outDirPath\n",
        "\n",
        "\n",
        "    def _getImages(self, dirPath):\n",
        "        res = []\n",
        "        for filename in os.listdir(dirPath):\n",
        "            img = Image.open(os.path.join(dirPath, filename))\n",
        "            res.append(img)\n",
        "        return res\n",
        "    \n",
        "    '''\n",
        "    def _getSizeMedians(self, images):\n",
        "        w = []\n",
        "        h = []\n",
        "        for img in images:\n",
        "            h.append(img.size[1])\n",
        "            w.append(img.size[0])\n",
        "        print(np.median(h), np.median(w))\n",
        "        return int(np.median(h)), int(np.median(w))\n",
        "    '''\n",
        "\n",
        "    def _toSameFormat(self, images):\n",
        "        res = []\n",
        "        desired_w = self.w\n",
        "        desired_h = self.h\n",
        "        for img in images:\n",
        "            res.append(np.asarray(img.resize((desired_w, desired_h))))\n",
        "            #res.append(img.resize((self.h, self.w)))\n",
        "        #res[-1].show()\n",
        "        return res\n",
        "\n",
        "    def augment(self):\n",
        "        seq = iaa.Sequential([\n",
        "                iaa.ChannelShuffle(0.1),\n",
        "                iaa.Invert(0.25),\n",
        "                iaa.AdditiveGaussianNoise(scale=(0, 0.01*255)),\n",
        "                iaa.Dropout(0.01)\n",
        "                ])\n",
        "        res = []\n",
        "        for i in range(10):\n",
        "            res.extend(seq(images = self.images))\n",
        "        return res\n",
        "\n",
        "    def saveImages(self, np_images):\n",
        "        i = 0\n",
        "        for i in range(len(np_images)):\n",
        "            img = Image.fromarray(np_images[i])\n",
        "            img.save(os.path.join(self.outDirPath, str(i)+'.bmp'), 'BMP')\n",
        "            \n",
        "\n",
        "os.mkdir('./ds_swords')\n",
        "aug = Augmenter('./swords','./ds_swords')\n",
        "imgs = aug.augment()\n",
        "aug.saveImages(imgs)"
      ],
      "execution_count": null,
      "outputs": [
        {
          "output_type": "error",
          "ename": "FileExistsError",
          "evalue": "ignored",
          "traceback": [
            "\u001b[0;31m---------------------------------------------------------------------------\u001b[0m",
            "\u001b[0;31mFileExistsError\u001b[0m                           Traceback (most recent call last)",
            "\u001b[0;32m<ipython-input-6-dce837f3e6d3>\u001b[0m in \u001b[0;36m<module>\u001b[0;34m()\u001b[0m\n\u001b[1;32m     72\u001b[0m \u001b[0;34m\u001b[0m\u001b[0m\n\u001b[1;32m     73\u001b[0m \u001b[0;34m\u001b[0m\u001b[0m\n\u001b[0;32m---> 74\u001b[0;31m \u001b[0mos\u001b[0m\u001b[0;34m.\u001b[0m\u001b[0mmkdir\u001b[0m\u001b[0;34m(\u001b[0m\u001b[0;34m'./ds_swords'\u001b[0m\u001b[0;34m)\u001b[0m\u001b[0;34m\u001b[0m\u001b[0;34m\u001b[0m\u001b[0m\n\u001b[0m\u001b[1;32m     75\u001b[0m \u001b[0maug\u001b[0m \u001b[0;34m=\u001b[0m \u001b[0mAugmenter\u001b[0m\u001b[0;34m(\u001b[0m\u001b[0;34m'./swords'\u001b[0m\u001b[0;34m,\u001b[0m\u001b[0;34m'./ds_swords'\u001b[0m\u001b[0;34m)\u001b[0m\u001b[0;34m\u001b[0m\u001b[0;34m\u001b[0m\u001b[0m\n\u001b[1;32m     76\u001b[0m \u001b[0mimgs\u001b[0m \u001b[0;34m=\u001b[0m \u001b[0maug\u001b[0m\u001b[0;34m.\u001b[0m\u001b[0maugment\u001b[0m\u001b[0;34m(\u001b[0m\u001b[0;34m)\u001b[0m\u001b[0;34m\u001b[0m\u001b[0;34m\u001b[0m\u001b[0m\n",
            "\u001b[0;31mFileExistsError\u001b[0m: [Errno 17] File exists: './ds_swords'"
          ]
        }
      ]
    },
    {
      "cell_type": "markdown",
      "metadata": {
        "id": "2cYxXMMG0Hxy"
      },
      "source": [
        "Hyperparameters"
      ]
    },
    {
      "cell_type": "code",
      "metadata": {
        "id": "fXCkLB6X0HZM"
      },
      "source": [
        "batch_size = 64\n",
        "desc_lr = 0.0004\n",
        "gen_lr = 0.0001\n",
        "beta1 = 0.5\n",
        "epochs = 255\n",
        "unrolled_steps = 6\n",
        "'''\n",
        "flat_size = 35775\n",
        "dropout_prob = 0.3\n",
        "desc_l1 = 1024\n",
        "desc_l2 = 512\n",
        "desc_l3 = 256\n",
        "noise_size = 100\n",
        "gen_l1 = 256\n",
        "gen_l2 = 512\n",
        "gen_l3 = 1024\n",
        "'''\n",
        "\n",
        "\n",
        "desc_inp_l = 3\n",
        "desc_l = 128\n",
        "desc_flat_l = 4\n",
        "\n",
        "\n",
        "gen_inp_l = 15\n",
        "gen_l = 256\n",
        "gen_out_l = 3\n",
        "\n",
        "avg_t = 14"
      ],
      "execution_count": null,
      "outputs": []
    },
    {
      "cell_type": "markdown",
      "metadata": {
        "id": "rRyx06iXvkrN"
      },
      "source": [
        "Data"
      ]
    },
    {
      "cell_type": "code",
      "metadata": {
        "id": "STq4oC-Mvpp1"
      },
      "source": [
        "import torch\n",
        "from torchvision import transforms\n",
        "from torch.autograd import Variable\n",
        "\n",
        "from PIL import Image\n",
        "import numpy as np\n",
        "import os\n",
        "import matplotlib.pyplot as plt\n",
        "\n",
        "class Dataset(torch.utils.data.Dataset):\n",
        "\n",
        "  def __init__(self, dirPath):\n",
        "    super(Dataset, self).__init__()\n",
        "    self.pics = self._load(dirPath)\n",
        "\n",
        "  def _load(self, dirPath):\n",
        "    transform = transforms.Compose(\n",
        "        [transforms.ToTensor(),\n",
        "         transforms.Normalize((.5, .5, .5), (.5, .5, .5))\n",
        "        ])\n",
        "    res = []\n",
        "    #for filename in os.listdir('./ds_swords'):\n",
        "    for filename in os.listdir(dirPath):\n",
        "      img = Image.open(os.path.join(dirPath, filename))\n",
        "      transformed_img = transform(img)\n",
        "      #dim_replaced_img = transformed_img.permute(1, 2, 0)\n",
        "      res.append(transformed_img)\n",
        "    #print(res[-1].shape)\n",
        "    #plt.show(res[-1])\n",
        "    #print(res[-1].shape)\n",
        "    '''\n",
        "    tensor_to_pil = transforms.ToPILImage()(res[-1].permute(2, 0, 1))\n",
        "    tensor_to_pil.save('test.png')\n",
        "    '''\n",
        "    return res\n",
        "\n",
        "  def __len__(self):\n",
        "    return len(self.pics)\n",
        "\n",
        "  def __getitem__(self, idx):\n",
        "    return self.pics[idx]\n",
        "\n",
        "data = Dataset('./ds_swords')\n",
        "data_loader = torch.utils.data.DataLoader(data, batch_size = batch_size, shuffle=True)\n",
        "num_batches = len(data_loader)  "
      ],
      "execution_count": null,
      "outputs": []
    },
    {
      "cell_type": "markdown",
      "metadata": {
        "id": "2_e6SoBY2y09"
      },
      "source": [
        "https://github.com/dansuh17/segan-pytorch/blob/master/vbnorm.py modified for conv2d"
      ]
    },
    {
      "cell_type": "code",
      "metadata": {
        "id": "LpFebtWC2ydG"
      },
      "source": [
        "import torch\n",
        "import torch.nn as nn\n",
        "from torch.autograd import Variable\n",
        "from torch.nn.parameter import Parameter\n",
        "from torch.nn.modules import Module\n",
        "\n",
        "\n",
        "class VirtualBatchNorm2d(Module):\n",
        "    \"\"\"\n",
        "    Module for Virtual Batch Normalization.\n",
        "    Implementation borrowed and modified from Rafael_Valle's code + help of SimonW from this discussion thread:\n",
        "    https://discuss.pytorch.org/t/parameter-grad-of-conv-weight-is-none-after-virtual-batch-normalization/9036\n",
        "    \"\"\"\n",
        "    def __init__(self, num_channels: int, eps: float=1e-5):\n",
        "        super().__init__()\n",
        "        # batch statistics\n",
        "        self.num_channels = num_channels\n",
        "        self.eps = eps  # epsilon\n",
        "        self.ref_mean = self.register_parameter('ref_mean', None)\n",
        "        self.ref_mean_sq = self.register_parameter('ref_mean_sq', None)\n",
        "\n",
        "        # define gamma and beta parameters\n",
        "        gamma = torch.normal(mean=torch.ones(1, num_channels, 1, 1), std=0.02)\n",
        "        self.gamma = Parameter(gamma.float().cuda(async=True))\n",
        "        self.beta = Parameter(torch.cuda.FloatTensor(1, num_channels, 1, 1).fill_(0))\n",
        "\n",
        "    def get_stats(self, x):\n",
        "        \"\"\"\n",
        "        Calculates mean and mean square for given batch x.\n",
        "        Args:\n",
        "            x: tensor containing batch of activations\n",
        "        Returns:\n",
        "            mean: mean tensor over features\n",
        "            mean_sq: squared mean tensor over features\n",
        "        \"\"\"\n",
        "        mean = x.mean(3, keepdim=True).mean(2, keepdim=True).mean(0, keepdim=True)\n",
        "        mean_sq = (x ** 2).mean(3, keepdim=True).mean(2, keepdim=True).mean(0, keepdim=True)\n",
        "        #print('MEAN:',mean.shape)\n",
        "        return mean, mean_sq\n",
        "\n",
        "    def forward(self, x, ref_mean = None, ref_mean_sq = None):\n",
        "        \"\"\"\n",
        "        Forward pass of virtual batch normalization.\n",
        "        Virtual batch normalization require two forward passes\n",
        "        for reference batch and train batch, respectively.\n",
        "        The input parameter is_reference should indicate whether it is a forward pass\n",
        "        for reference batch or not.\n",
        "        Args:\n",
        "            x: input tensor\n",
        "            is_reference(bool): True if forwarding for reference batch\n",
        "        Result:\n",
        "            x: normalized batch tensor\n",
        "        \"\"\"\n",
        "        mean, mean_sq = self.get_stats(x)\n",
        "        if ref_mean is None or ref_mean_sq is None:\n",
        "            # reference mode - works just like batch norm\n",
        "            mean = mean.clone().detach()\n",
        "            mean_sq = mean_sq.clone().detach()\n",
        "            out = self._normalize(x, mean, mean_sq)\n",
        "        else:\n",
        "            # calculate new mean and mean_sq\n",
        "            batch_size = x.size(0)\n",
        "            new_coeff = 1. / (batch_size + 1.)\n",
        "            old_coeff = 1. - new_coeff\n",
        "            mean = new_coeff * mean + old_coeff * ref_mean\n",
        "            mean_sq = new_coeff * mean_sq + old_coeff * ref_mean_sq\n",
        "            out = self._normalize(x, mean, mean_sq)\n",
        "        return out, mean, mean_sq\n",
        "\n",
        "    def _normalize(self, x, mean, mean_sq):\n",
        "        \"\"\"\n",
        "        Normalize tensor x given the statistics.\n",
        "        Args:\n",
        "            x: input tensor\n",
        "            mean: mean over features. it has size [1:num_features:]\n",
        "            mean_sq: squared means over features.\n",
        "        Result:\n",
        "            x: normalized batch tensor\n",
        "        \"\"\"\n",
        "        assert mean_sq is not None\n",
        "        assert mean is not None\n",
        "        assert len(x.size()) == 4  # specific for 2d VBN\n",
        "        '''\n",
        "        if mean.size(1) != self.num_features:\n",
        "            raise Exception(\n",
        "                    'Mean size not equal to number of featuers : given {}, expected {}'\n",
        "                    .format(mean.size(1), self.num_features))\n",
        "        if mean_sq.size(1) != self.num_features:\n",
        "            raise Exception(\n",
        "                    'Squared mean tensor size not equal to number of features : given {}, expected {}'\n",
        "                    .format(mean_sq.size(1), self.num_features))\n",
        "        '''\n",
        "\n",
        "        std = torch.sqrt(self.eps + mean_sq - mean**2)\n",
        "        x = x - mean\n",
        "        x = x / std\n",
        "        x = x * self.gamma\n",
        "        x = x + self.beta\n",
        "        return x\n",
        "\n",
        "    def __repr__(self):\n",
        "        return ('{name}(num_channels={num_channels}, eps={eps}'\n",
        "                .format(name=self.__class__.__name__, **self.__dict__))"
      ],
      "execution_count": null,
      "outputs": []
    },
    {
      "cell_type": "markdown",
      "metadata": {
        "id": "OourmZqh0Bkb"
      },
      "source": [
        "Model"
      ]
    },
    {
      "cell_type": "code",
      "metadata": {
        "id": "JVp2uB2b3nYp",
        "colab": {
          "base_uri": "https://localhost:8080/",
          "height": 380
        },
        "outputId": "c7d54b1c-db51-41b7-f774-3359406d18dd"
      },
      "source": [
        "import torch.nn.functional as F\n",
        "import collections\n",
        "\n",
        "if __name__ == '__main__':\n",
        "    if torch.cuda.is_available():\n",
        "        print('CUDA is available,',torch.cuda.device_count())\n",
        "        print(torch.cuda.get_device_name(0))\n",
        "        \n",
        "device = torch.device(\"cuda:0\" if torch.cuda.is_available() else \"cpu\")\n",
        "\n",
        "class PrintLayer(torch.nn.Module):\n",
        "    def __init__(self):\n",
        "        super(PrintLayer, self).__init__()\n",
        "    \n",
        "    def forward(self, x):\n",
        "        print(x.size())\n",
        "        return x\n",
        "\n",
        "class GaussianNoise(torch.nn.Module):\n",
        "    def __init__(self, stddev):\n",
        "        super().__init__()\n",
        "        self.stddev = stddev\n",
        "\n",
        "    def forward(self, x):\n",
        "        if self.training:\n",
        "            return x + torch.autograd.Variable(torch.x(x.size()).to(device) * self.stddev)\n",
        "        return x\n",
        "\n",
        "class D(torch.nn.Module):\n",
        "    def __init__(self):\n",
        "        super(D, self).__init__()\n",
        "\n",
        "        self.noise = GaussianNoise(10)\n",
        "\n",
        "        self.main = torch.nn.Sequential(\n",
        "            torch.nn.Conv2d(desc_inp_l, desc_l, 4, 2, 1, bias=False),  #128, 32 -> 64, 16\n",
        "            torch.nn.LeakyReLU(0.2, inplace=True),\n",
        "\n",
        "            torch.nn.Conv2d(desc_l, desc_l * 2, 4, 2, 1, bias=False), #64, 16 -> 32, 8\n",
        "            torch.nn.BatchNorm2d(desc_l * 2),\n",
        "            torch.nn.LeakyReLU(0.2, inplace=True),\n",
        "\n",
        "            torch.nn.Conv2d(desc_l * 2, desc_l * 4, 4, 2, 1, bias=False), #32, 8 -> 16, 4\n",
        "            torch.nn.BatchNorm2d(desc_l * 4),\n",
        "            torch.nn.LeakyReLU(0.2, inplace=True),\n",
        "\n",
        "            torch.nn.Conv2d(desc_l * 4, desc_l * 8, 4, 2, 1, bias=False), #16, 4 -> 8, 2\n",
        "            torch.nn.BatchNorm2d(desc_l * 8),\n",
        "            torch.nn.LeakyReLU(0.2, inplace=True),\n",
        "\n",
        "            torch.nn.Conv2d(desc_l * 8, 1, 4, 2, 1, bias=False), #8, 2 -> 4, 1\n",
        "        )\n",
        "        self.out = torch.nn.Sequential(torch.nn.Linear(desc_flat_l, 1),\n",
        "                    torch.nn.Sigmoid())\n",
        "\n",
        "    def forward(self, x):\n",
        "        #x = self.noise(x)\n",
        "        x = self.main(x)\n",
        "        x = x.view(x.size(0), -1)\n",
        "        x = self.out(x)\n",
        "        return x\n",
        "\n",
        "    def forward_with_feature_extraction(self, x):\n",
        "        #x = self.noise(x)\n",
        "        x = self.main(x)\n",
        "        features = x.view(x.size(0), -1)\n",
        "        x = self.out(features)\n",
        "        return x, features\n",
        "\n",
        "class G(torch.nn.Module):\n",
        "    def __init__(self):\n",
        "        super(G, self).__init__()\n",
        "        \n",
        "        self.main = torch.nn.Sequential(\n",
        "            torch.nn.ConvTranspose2d(gen_inp_l, gen_l * 8, 4, 2, 1, bias=False), #4, 1 -> 8, 2\n",
        "            torch.nn.BatchNorm2d(gen_l * 8),\n",
        "            torch.nn.ReLU(True),\n",
        "\n",
        "            torch.nn.ConvTranspose2d(gen_l * 8, gen_l * 8, 4, 2, 1, bias=False), #8, 2 -> 16, 4\n",
        "            torch.nn.BatchNorm2d(gen_l * 8),\n",
        "            torch.nn.ReLU(True),\n",
        "\n",
        "            torch.nn.ConvTranspose2d(gen_l * 8, gen_l * 4, 4, 2, 1, bias=False), #16, 4 -> 32, 8\n",
        "            torch.nn.BatchNorm2d(gen_l * 4),\n",
        "            torch.nn.ReLU(True),\n",
        "\n",
        "            torch.nn.ConvTranspose2d(gen_l * 4, gen_l * 2, 4, 2, 1, bias=False), #32, 8 -> 64, 16\n",
        "            torch.nn.BatchNorm2d(gen_l * 2),\n",
        "            torch.nn.ReLU(True),\n",
        "\n",
        "            torch.nn.ConvTranspose2d( gen_l * 2, 3, 4, 2, 1, bias=False), #64, 16 -> 128, 32\n",
        "            torch.nn.Tanh()\n",
        "        )\n",
        "\n",
        "    def forward(self, x):\n",
        "        x = self.main(x)\n",
        "        return x\n",
        "\n",
        "\n",
        "'''\n",
        "class G(torch.nn.Module):\n",
        "    def __init__(self):\n",
        "        super(G, self).__init__()\n",
        "        \n",
        "        num_features = lambda channels, num : 8*2**num * 2*2**num * channels\n",
        "\n",
        "        self.conv1 = torch.nn.ConvTranspose2d(gen_inp_l, gen_l * 8, 4, 2, 1, bias=False) #4, 1 -> 8, 2\n",
        "        self.vbn1 = VirtualBatchNorm2d(gen_l * 8)\n",
        "        self.relu1 = torch.nn.ReLU(True)\n",
        "\n",
        "        self.conv2 = torch.nn.ConvTranspose2d(gen_l * 8, gen_l * 8, 4, 2, 1, bias=False) #8, 2 -> 16, 4\n",
        "        self.vbn2 = VirtualBatchNorm2d(gen_l * 8)\n",
        "        self.relu2 = torch.nn.ReLU(True)\n",
        "\n",
        "        self.conv3 = torch.nn.ConvTranspose2d(gen_l * 8, gen_l * 4, 4, 2, 1, bias=False) #16, 4 -> 32, 8\n",
        "        self.vbn3 = VirtualBatchNorm2d(gen_l * 4)\n",
        "        self.relu3 = torch.nn.ReLU(True)\n",
        "\n",
        "        self.conv4 = torch.nn.ConvTranspose2d(gen_l * 4, gen_l * 2, 4, 2, 1, bias=False) #32, 8 -> 64, 16\n",
        "        self.vbn4 = VirtualBatchNorm2d(gen_l * 2)\n",
        "        self.relu4 = torch.nn.ReLU(True)\n",
        "\n",
        "        self.conv5 = torch.nn.ConvTranspose2d( gen_l * 2, 3, 4, 2, 1, bias=False) #64, 16 -> 128, 32\n",
        "        self.tanh = torch.nn.Tanh()\n",
        "        \n",
        "\n",
        "    def forward(self, x, ref_batch):\n",
        "        #x = self.main(x)\n",
        "        #print('X:',x.shape)\n",
        "        #print('REF:',ref_batch.shape)\n",
        "        ref_batch = self.conv1(ref_batch)\n",
        "        ref_batch, m1, ms1 = self.vbn1(ref_batch)\n",
        "        ref_batch = self.relu1(ref_batch)\n",
        "        ref_batch = self.conv2(ref_batch)\n",
        "        ref_batch, m2, ms2 = self.vbn2(ref_batch)\n",
        "        ref_batch = self.relu2(ref_batch)\n",
        "        ref_batch = self.conv3(ref_batch)\n",
        "        ref_batch, m3, ms3 = self.vbn3(ref_batch)\n",
        "        ref_batch = self.relu3(ref_batch)\n",
        "        ref_batch = self.conv4(ref_batch)\n",
        "        ref_batch, m4, ms4 = self.vbn4(ref_batch)\n",
        "        \n",
        "        x = self.conv1(x)\n",
        "        x, _, _ = self.vbn1(x, m1, ms1)\n",
        "        x = self.relu1(x)\n",
        "        x = self.conv2(x)\n",
        "        x, _, _ = self.vbn2(x, m2, ms2)\n",
        "        x = self.relu2(x)\n",
        "        x = self.conv3(x)\n",
        "        x, _, _ = self.vbn3(x, m3, ms3)\n",
        "        x = self.relu3(x)\n",
        "        x = self.conv4(x)\n",
        "        x, _, _ = self.vbn4(x, m4, ms4)\n",
        "        x = self.relu4(x)\n",
        "        x = self.conv5(x)\n",
        "        x = self.tanh(x)\n",
        "        return x\n",
        "\n",
        "'''\n",
        "\n",
        "\n",
        "def getNoise(size):\n",
        "  return Variable(torch.randn(size, gen_inp_l, 4, 1))\n",
        "\n",
        "def weights_init(m):\n",
        "    classname = m.__class__.__name__\n",
        "    if classname == 'VirtualBatchNorm2d':\n",
        "      pass\n",
        "    elif classname.find('Conv') != -1:\n",
        "        torch.nn.init.normal_(m.weight.data, 0.0, 0.02)\n",
        "    elif classname.find('BatchNorm') != -1:\n",
        "        torch.nn.init.normal_(m.weight.data, 1.0, 0.02)\n",
        "        torch.nn.init.constant_(m.bias.data, 0)\n",
        "\n",
        "discriminator = D().to(device)\n",
        "discriminator.apply(weights_init)\n",
        "generator = G().to(device)\n",
        "generator.apply(weights_init)"
      ],
      "execution_count": null,
      "outputs": [
        {
          "output_type": "stream",
          "text": [
            "CUDA is available, 1\n",
            "Tesla P100-PCIE-16GB\n"
          ],
          "name": "stdout"
        },
        {
          "output_type": "execute_result",
          "data": {
            "text/plain": [
              "G(\n",
              "  (main): Sequential(\n",
              "    (0): ConvTranspose2d(15, 2048, kernel_size=(4, 4), stride=(2, 2), padding=(1, 1), bias=False)\n",
              "    (1): BatchNorm2d(2048, eps=1e-05, momentum=0.1, affine=True, track_running_stats=True)\n",
              "    (2): ReLU(inplace=True)\n",
              "    (3): ConvTranspose2d(2048, 2048, kernel_size=(4, 4), stride=(2, 2), padding=(1, 1), bias=False)\n",
              "    (4): BatchNorm2d(2048, eps=1e-05, momentum=0.1, affine=True, track_running_stats=True)\n",
              "    (5): ReLU(inplace=True)\n",
              "    (6): ConvTranspose2d(2048, 1024, kernel_size=(4, 4), stride=(2, 2), padding=(1, 1), bias=False)\n",
              "    (7): BatchNorm2d(1024, eps=1e-05, momentum=0.1, affine=True, track_running_stats=True)\n",
              "    (8): ReLU(inplace=True)\n",
              "    (9): ConvTranspose2d(1024, 512, kernel_size=(4, 4), stride=(2, 2), padding=(1, 1), bias=False)\n",
              "    (10): BatchNorm2d(512, eps=1e-05, momentum=0.1, affine=True, track_running_stats=True)\n",
              "    (11): ReLU(inplace=True)\n",
              "    (12): ConvTranspose2d(512, 3, kernel_size=(4, 4), stride=(2, 2), padding=(1, 1), bias=False)\n",
              "    (13): Tanh()\n",
              "  )\n",
              ")"
            ]
          },
          "metadata": {
            "tags": []
          },
          "execution_count": 9
        }
      ]
    },
    {
      "cell_type": "markdown",
      "metadata": {
        "id": "rLtZV9b1Ft7w"
      },
      "source": [
        "Train"
      ]
    },
    {
      "cell_type": "code",
      "metadata": {
        "id": "qBlLNs13Hwlu",
        "scrolled": true,
        "colab": {
          "base_uri": "https://localhost:8080/",
          "height": 283
        },
        "outputId": "a66b7a73-fd67-4665-f88c-741ba5257c62"
      },
      "source": [
        "import tqdm\n",
        "import copy\n",
        "\n",
        "d_optimizer = torch.optim.Adam(discriminator.parameters(), lr = desc_lr, betas=(beta1, 0.999))\n",
        "g_optimizer = torch.optim.Adam(generator.parameters(), lr = gen_lr, betas=(beta1, 0.999))\n",
        "criterion = torch.nn.BCELoss()\n",
        "deq_d = collections.deque(maxlen = avg_t)\n",
        "deq_g = collections.deque(maxlen = avg_t)\n",
        "mean_d = []\n",
        "mean_g = []\n",
        "#ref_batch = next(iter(data_loader))\n",
        "ref_batch = getNoise(batch_size).to(device)\n",
        "\n",
        "def saveWeights(i):\n",
        "    torch.save(generator.state_dict(), 'gen_'+str(i)+'.pt')\n",
        "    torch.save(discriminator.state_dict(), 'disc_'+str(i)+'.pt')\n",
        "\n",
        "def loadWeights(i = 0):\n",
        "    if i == 0:\n",
        "        generator.load_state_dict(torch.load('gen.pt'))\n",
        "        discriminator.load_state_dict(torch.load('disc.pt'))\n",
        "    else:\n",
        "        generator.load_state_dict(torch.load('gen_'+str(i)+'.pt'))\n",
        "        discriminator.load_state_dict(torch.load('disc_'+str(i)+'.pt'))\n",
        "\n",
        "def smooth_ones_target(size):\n",
        "    data = Variable(torch.ones(size, 1) * 0.9)\n",
        "    return data\n",
        "\n",
        "def ones_target(size):\n",
        "    data = Variable(torch.ones(size, 1))\n",
        "    return data\n",
        "\n",
        "def zeros_target(size):\n",
        "    data = Variable(torch.zeros(size, 1))\n",
        "    return data\n",
        "'''\n",
        "def train_discriminator(optimizer, real_data, fake_data):\n",
        "    N = real_data.size(0)\n",
        "    # Reset gradients\n",
        "    optimizer.zero_grad()\n",
        "    \n",
        "    # 1.1 Train on Real Data\n",
        "    prediction_real = discriminator(real_data)\n",
        "    # Calculate error and backpropagate\n",
        "    error_real = criterion(prediction_real.cpu(), smooth_ones_target(N) )\n",
        "    error_real.backward()\n",
        "\n",
        "    # 1.2 Train on Fake Data\n",
        "    prediction_fake = discriminator(fake_data)\n",
        "    # Calculate error and backpropagate\n",
        "    error_fake = criterion(prediction_fake.cpu(), zeros_target(N))\n",
        "    error_fake.backward()\n",
        "    \n",
        "    # 1.3 Update weights with gradients\n",
        "    optimizer.step()\n",
        "    \n",
        "    # Return error and predictions for real and fake inputs\n",
        "    return error_real + error_fake\n",
        "\n",
        "def unrolled_train_discriminator(optimizer, real_data, fake_data):\n",
        "    N = real_data.size(0)\n",
        "    # Reset gradients\n",
        "    optimizer.zero_grad()\n",
        "    \n",
        "    # 1.1 Train on Real Data\n",
        "    prediction_real = discriminator(real_data)\n",
        "    # Calculate error and backpropagate\n",
        "    error_real = criterion(prediction_real.cpu(), smooth_ones_target(N) )\n",
        "    error_real.backward()\n",
        "\n",
        "    # 1.2 Train on Fake Data\n",
        "    prediction_fake = discriminator(fake_data)\n",
        "    # Calculate error and backpropagate\n",
        "    error_fake = criterion(prediction_fake.cpu(), zeros_target(N))\n",
        "    error_fake.backward(create_graph=True)\n",
        "    \n",
        "    # 1.3 Update weights with gradients\n",
        "    optimizer.step()\n",
        "    \n",
        "    # Return error and predictions for real and fake inputs\n",
        "    return error_real + error_fake\n",
        "\n",
        "def train_generator(optimizer, fake_data):\n",
        "    N = fake_data.size(0)    # Reset gradients\n",
        "    optimizer.zero_grad()    # Sample noise and generate fake data\n",
        "    prediction = discriminator(fake_data)    # Calculate error and backpropagate\n",
        "    error = criterion(prediction.cpu(), ones_target(N))\n",
        "    error.backward()    # Update weights with gradients\n",
        "    optimizer.step()    # Return error\n",
        "    return error\n",
        "\n",
        "def unrolled_train_generator(optimizer, real_data):\n",
        "    N = real_data.size(0)\n",
        "    optimizer.zero_grad()    # Sample noise and generate fake data\n",
        "    noise = getNoise(N).to(device)\n",
        "    for i in range(unrolled_steps):\n",
        "      with torch.no_grad():\n",
        "        fake_data = generator(noise)\n",
        "      unrolled_train_discriminator(d_optimizer, real_data, fake_data)\n",
        "    fake_data = generator(noise)\n",
        "    prediction = discriminator(fake_data)    # Calculate error and backpropagate\n",
        "    error = criterion(prediction.cpu(), ones_target(N))\n",
        "    error.backward()    # Update weights with gradients\n",
        "    optimizer.step()    # Return error\n",
        "    return error\n",
        "\n",
        "def unrolled_train_generator_with_feature_extraction(optimizer, real_data):\n",
        "    N = real_data.size(0)\n",
        "    optimizer.zero_grad()    # Sample noise and generate fake data\n",
        "    noise = getNoise(N).to(device)\n",
        "    for i in range(unrolled_steps):\n",
        "      with torch.no_grad():\n",
        "        fake_data = generator(noise)\n",
        "      unrolled_train_discriminator(d_optimizer, real_data, fake_data)\n",
        "    fake_data = generator(noise)\n",
        "    prediction, features_fake = discriminator.forward_with_feature_extraction(fake_data)\n",
        "    prediction, features_real = discriminator.forward_with_feature_extraction(real_data)\n",
        "    error = ((features_fake.cpu().mean(dim=0) - features_real.detach().cpu().mean(dim=0))**2).mean()\n",
        "    error.backward()    # Update weights with gradients\n",
        "    optimizer.step()    # Return error\n",
        "    return error\n",
        "'''\n",
        "\n",
        "def train_discriminator(optimizer, real_data, fake_data):\n",
        "    N = real_data.size(0)\n",
        "    # Reset gradients\n",
        "    optimizer.zero_grad()\n",
        "    \n",
        "    # 1.1 Train on Real Data\n",
        "    prediction_real = discriminator(real_data)\n",
        "    # Calculate error and backpropagate\n",
        "    error_real = criterion(prediction_real.cpu(), smooth_ones_target(N) )\n",
        "    error_real.backward()\n",
        "\n",
        "    # 1.2 Train on Fake Data\n",
        "    prediction_fake = discriminator(fake_data)\n",
        "    # Calculate error and backpropagate\n",
        "    error_fake = criterion(prediction_fake.cpu(), zeros_target(N))\n",
        "    error_avg = weights_historical_avergaging_loss(discriminator, deq_d, avg_t, mean_d)\n",
        "    if torch.isnan(error_avg).any() == False:\n",
        "      error_fake += error_avg\n",
        "    error_fake.backward()\n",
        "    # 1.3 Update weights with gradients\n",
        "    optimizer.step()\n",
        "    \n",
        "    # Return error and predictions for real and fake inputs\n",
        "    return error_real + error_fake\n",
        "\n",
        "def unrolled_train_discriminator(optimizer, real_data, fake_data, deq_copy, mean_copy):\n",
        "    N = real_data.size(0)\n",
        "    # Reset gradients\n",
        "    optimizer.zero_grad()\n",
        "    \n",
        "    # 1.1 Train on Real Data\n",
        "    prediction_real = discriminator(real_data)\n",
        "    # Calculate error and backpropagate\n",
        "    error_real = criterion(prediction_real.cpu(), smooth_ones_target(N) )\n",
        "    error_real.backward()\n",
        "\n",
        "    # 1.2 Train on Fake Data\n",
        "    prediction_fake = discriminator(fake_data)\n",
        "    # Calculate error and backpropagate\n",
        "    error_fake = criterion(prediction_fake.cpu(), zeros_target(N))\n",
        "    error_avg = weights_historical_avergaging_loss(discriminator, deq_copy, avg_t, mean_copy)\n",
        "    if torch.isnan(error_avg).any() == False:\n",
        "      error_fake += error_avg\n",
        "    error_fake.backward(create_graph=True)\n",
        "    \n",
        "    # 1.3 Update weights with gradients\n",
        "    optimizer.step()\n",
        "    \n",
        "    # Return error and predictions for real and fake inputs\n",
        "    return error_real + error_fake\n",
        "\n",
        "def train_generator(optimizer, fake_data):\n",
        "    N = fake_data.size(0)    # Reset gradients\n",
        "    optimizer.zero_grad()    # Sample noise and generate fake data\n",
        "    prediction = discriminator(fake_data)    # Calculate error and backpropagate\n",
        "    error = criterion(prediction.cpu(), ones_target(N))\n",
        "    error.backward()    # Update weights with gradients\n",
        "    optimizer.step()    # Return error\n",
        "    return error\n",
        "\n",
        "def unrolled_train_generator(optimizer, real_data, deq_copy):\n",
        "    N = real_data.size(0)\n",
        "    optimizer.zero_grad()    # Sample noise and generate fake data\n",
        "    noise = getNoise(N).to(device)\n",
        "    for i in range(unrolled_steps):\n",
        "      with torch.no_grad():\n",
        "        fake_data = generator(noise)\n",
        "      unrolled_train_discriminator(d_optimizer, real_data, fake_data, deq_copy)\n",
        "    fake_data = generator(noise)\n",
        "    prediction = discriminator(fake_data)    # Calculate error and backpropagate\n",
        "    error = criterion(prediction.cpu(), ones_target(N))\n",
        "    error.backward()    # Update weights with gradients\n",
        "    optimizer.step()    # Return error\n",
        "    return error\n",
        "\n",
        "def unrolled_train_generator_with_feature_extraction(optimizer, real_data, deq_copy, mean_copy):\n",
        "    N = real_data.size(0)\n",
        "    optimizer.zero_grad()    # Sample noise and generate fake data\n",
        "    noise = getNoise(N).to(device)\n",
        "    for i in range(unrolled_steps):\n",
        "      with torch.no_grad():\n",
        "        fake_data = generator(noise)\n",
        "      unrolled_train_discriminator(d_optimizer, real_data, fake_data, deq_copy, mean_copy)\n",
        "    fake_data = generator(noise)\n",
        "    prediction, features_fake = discriminator.forward_with_feature_extraction(fake_data)\n",
        "    prediction, features_real = discriminator.forward_with_feature_extraction(real_data)\n",
        "    error = ((features_fake.cpu().mean(dim=0) - features_real.detach().cpu().mean(dim=0))**2).mean()\n",
        "    error_avg = weights_historical_avergaging_loss(generator, deq_g, avg_t, mean_g)\n",
        "    if torch.isnan(error_avg).any() == False:\n",
        "      error += error_avg\n",
        "    error.backward()    # Update weights with gradients\n",
        "    optimizer.step()    # Return error\n",
        "    return error\n",
        "\n",
        "'''\n",
        "def weights_historical_avergaging_loss(model, deq, t):\n",
        "    curr_weights = list([p.cpu().data for p in model.parameters() if p.requires_grad])\n",
        "    #curr_weights = model.named_parameters()\n",
        "    if len(deq) > t/2:\n",
        "        #print(curr_weights)\n",
        "        #distance = torch.Tensor(torch.abs(torch.Tensor(torch.mean(deq, dim = 0) - curr_weights)))\n",
        "        distance = 0\n",
        "        mean = [torch.zeros_like(curr_weights[i]) for i in range(len(curr_weights))]\n",
        "        for i in range(len(deq)):\n",
        "          for j in range(len(curr_weights)):\n",
        "            mean[j] += deq[i][j]\n",
        "        for j in range(len(curr_weights)):\n",
        "          mean[j] /= len(deq)\n",
        "        for i in range(len(curr_weights)):\n",
        "          distance += torch.sum(torch.abs(mean[i] - curr_weights[i]))\n",
        "    else:\n",
        "        distance = torch.Tensor([np.nan])\n",
        "    curr_weights = [weight.detach() for weight in curr_weights]\n",
        "    deq.append(curr_weights)\n",
        "    return distance\n",
        "'''\n",
        "def weights_historical_avergaging_loss(model, deq, t, mean):\n",
        "    curr_weights = list([p.cpu().data for p in model.parameters() if p.requires_grad])\n",
        "    if len(deq) > t/2:\n",
        "        distance = 0\n",
        "        for i in range(len(curr_weights)):\n",
        "          distance += torch.sum(torch.abs(mean[i] - curr_weights[i]))\n",
        "    else:\n",
        "        distance = torch.Tensor([np.nan])\n",
        "    curr_weights = [weight.detach() for weight in curr_weights]\n",
        "    if len(deq) < t:\n",
        "      deq.append(curr_weights)\n",
        "      mean.clear()\n",
        "      mean.extend([torch.zeros_like(curr_weights[i]) for i in range(len(curr_weights))])\n",
        "      for i in range(len(deq)):\n",
        "        for j in range(len(curr_weights)):\n",
        "          mean[j] += deq[i][j]\n",
        "      for j in range(len(curr_weights)):\n",
        "        mean[j] /= len(deq)\n",
        "    else:\n",
        "      popout = deq[0]\n",
        "      popin = curr_weights\n",
        "      for i in range(len(curr_weights)):\n",
        "          mean[i] += (popin[i] - popout[i]) / len(deq)\n",
        "      deq.append(curr_weights)\n",
        "    return distance\n",
        "\n",
        "\n",
        "def train(num_epochs):\n",
        "  d_loss_history = []\n",
        "  g_loss_history = []\n",
        "  for epoch in tqdm.trange(num_epochs):\n",
        "      g_epoch_loss = []\n",
        "      d_epoch_loss = []\n",
        "      for real_batch in data_loader:\n",
        "          N = real_batch.size(0)        # 1. Train Discriminator\n",
        "          real_data = Variable(real_batch).to(device)        # Generate fake data and detach \n",
        "          # (so gradients are not calculated for generator)\n",
        "          fake_data = generator(getNoise(N).to(device)).detach()        # Train D\n",
        "          d_loss = train_discriminator(d_optimizer, real_data, fake_data)\n",
        "          d_epoch_loss.append(d_loss.detach().numpy())\n",
        "\n",
        "          # 2. Train Generator        # Generate fake data\n",
        "          fake_data = generator(getNoise(N).to(device))        # Train G\n",
        "          g_loss = train_generator(g_optimizer, fake_data)\n",
        "          g_epoch_loss.append(g_loss.detach().numpy())\n",
        "      d_loss_history.append(np.mean(d_epoch_loss))\n",
        "      g_loss_history.append(np.mean(g_epoch_loss))\n",
        "  saveWeights()\n",
        "\n",
        "def unrolled_train(num_epochs, unrolled_steps):\n",
        "  d_loss_history = []\n",
        "  g_loss_history = []\n",
        "  for epoch in tqdm.trange(num_epochs):\n",
        "      g_epoch_loss = []\n",
        "      d_epoch_loss = []\n",
        "      for real_batch in data_loader:\n",
        "          N = real_batch.size(0)        # 1. Train Discriminator\n",
        "          real_data = Variable(real_batch).to(device)        # Generate fake data and detach \n",
        "          # (so gradients are not calculated for generator)\n",
        "          fake_data = generator(getNoise(N).to(device)).detach()        # Train D\n",
        "\n",
        "          d_loss = train_discriminator(d_optimizer, real_data, fake_data)\n",
        "          d_epoch_loss.append(d_loss.detach().numpy())\n",
        "          \n",
        "          # 2. Train Generator        # Generate fake data\n",
        "          backup = discriminator.state_dict()                  #save discriminator \n",
        "          deq_backup = deq_d.copy()\n",
        "          mean_backup = copy.deepcopy(mean_d)\n",
        "          g_loss = unrolled_train_generator_with_feature_extraction(g_optimizer, real_data, deq_backup, mean_backup)\n",
        "          g_epoch_loss.append(g_loss.detach().numpy())\n",
        "          discriminator.load_state_dict(backup)                #load discriminator\n",
        "      d_loss_history.append(np.mean(d_epoch_loss))\n",
        "      g_loss_history.append(np.mean(g_epoch_loss))\n",
        "      if (epoch % 10 == 0 or epoch == num_epochs - 1) and epoch != 0:\n",
        "          saveWeights(epoch)\n",
        "  \n",
        "  plt.subplot(2, 1, 1)\n",
        "  plt.plot(range(len(d_loss_history)), d_loss_history)\n",
        "\n",
        "  plt.subplot(2, 1, 2)\n",
        "  plt.plot(range(len(g_loss_history)), g_loss_history)\n",
        "\n",
        "  plt.show()\n",
        "\n",
        "\n",
        "#loadWeights(99)\n",
        "unrolled_train(epochs, unrolled_steps)"
      ],
      "execution_count": null,
      "outputs": [
        {
          "output_type": "stream",
          "text": [
            "100%|██████████| 255/255 [7:59:59<00:00, 112.94s/it]\n"
          ],
          "name": "stderr"
        },
        {
          "output_type": "display_data",
          "data": {
            "image/png": "[encoded data removed]",
            "text/plain": [
              "<Figure size 432x288 with 2 Axes>"
            ]
          },
          "metadata": {
            "tags": [],
            "needs_background": "light"
          }
        }
      ]
    },
    {
      "cell_type": "markdown",
      "metadata": {
        "id": "coniIPoNUXFZ"
      },
      "source": [
        "Test"
      ]
    },
    {
      "cell_type": "code",
      "metadata": {
        "id": "BRpPIpoRUY2e",
        "colab": {
          "base_uri": "https://localhost:8080/",
          "height": 1000
        },
        "outputId": "09948fa2-0ca9-42e0-a2e2-dd92bfaa28b0"
      },
      "source": [
        "import matplotlib.pyplot as plt\n",
        "\n",
        "def loadWeightsFromDrive(i = 0):\n",
        "    if i == 0:\n",
        "        generator.load_state_dict(torch.load('./drive/My Drive/weights/gen.pt'))\n",
        "        discriminator.load_state_dict(torch.load('./drive/My Drive/weights/disc.pt'))\n",
        "    else:\n",
        "        generator.load_state_dict(torch.load('./drive/My Drive/weights/gen_'+str(i)+'.pt'))\n",
        "        discriminator.load_state_dict(torch.load('./drive/My Drive/weights/disc_'+str(i)+'.pt'))\n",
        "\n",
        "def save_res_img(pic, name):\n",
        "  \n",
        "  print(pic.size())\n",
        "  #pic = pic.view(512, 128, 3)\n",
        "  tensor_to_pil = transforms.ToPILImage()(pic)\n",
        "  tensor_to_pil.save(name)\n",
        "  \n",
        "  plt.figure(figsize=(8,8))\n",
        "  plt.axis(\"off\")\n",
        "  plt.title(\"Training Images\")\n",
        "  plt.imshow(pic.permute(1,2,0))\n",
        "\n",
        "\n",
        "\n",
        "def getPics(count):\n",
        "  noise = getNoise(count).to(device)\n",
        "  pics = generator(noise).detach().cpu()\n",
        "  for i in range(len(pics)):\n",
        "    save_res_img(pics[i], str(i)+'.png')\n",
        "\n",
        "\n",
        "\n",
        "loadWeights(70)\n",
        "getPics(10)"
      ],
      "execution_count": null,
      "outputs": [
        {
          "output_type": "stream",
          "text": [
            "Clipping input data to the valid range for imshow with RGB data ([0..1] for floats or [0..255] for integers).\n",
            "Clipping input data to the valid range for imshow with RGB data ([0..1] for floats or [0..255] for integers).\n",
            "Clipping input data to the valid range for imshow with RGB data ([0..1] for floats or [0..255] for integers).\n",
            "Clipping input data to the valid range for imshow with RGB data ([0..1] for floats or [0..255] for integers).\n",
            "Clipping input data to the valid range for imshow with RGB data ([0..1] for floats or [0..255] for integers).\n",
            "Clipping input data to the valid range for imshow with RGB data ([0..1] for floats or [0..255] for integers).\n",
            "Clipping input data to the valid range for imshow with RGB data ([0..1] for floats or [0..255] for integers).\n",
            "Clipping input data to the valid range for imshow with RGB data ([0..1] for floats or [0..255] for integers).\n",
            "Clipping input data to the valid range for imshow with RGB data ([0..1] for floats or [0..255] for integers).\n",
            "Clipping input data to the valid range for imshow with RGB data ([0..1] for floats or [0..255] for integers).\n"
          ],
          "name": "stderr"
        },
        {
          "output_type": "stream",
          "text": [
            "torch.Size([3, 128, 32])\n",
            "torch.Size([3, 128, 32])\n",
            "torch.Size([3, 128, 32])\n",
            "torch.Size([3, 128, 32])\n",
            "torch.Size([3, 128, 32])\n",
            "torch.Size([3, 128, 32])\n",
            "torch.Size([3, 128, 32])\n",
            "torch.Size([3, 128, 32])\n",
            "torch.Size([3, 128, 32])\n",
            "torch.Size([3, 128, 32])\n"
          ],
          "name": "stdout"
        },
        {
          "output_type": "display_data",
          "data": {
            "image/png": "[encoded data removed]",
            "text/plain": [
              "<Figure size 576x576 with 1 Axes>"
            ]
          },
          "metadata": {
            "tags": [],
            "needs_background": "light"
          }
        },
        {
          "output_type": "display_data",
          "data": {
            "image/png": "[encoded data removed]",
            "text/plain": [
              "<Figure size 576x576 with 1 Axes>"
            ]
          },
          "metadata": {
            "tags": [],
            "needs_background": "light"
          }
        },
        {
          "output_type": "display_data",
          "data": {
            "image/png": "[encoded data removed]",
            "text/plain": [
              "<Figure size 576x576 with 1 Axes>"
            ]
          },
          "metadata": {
            "tags": [],
            "needs_background": "light"
          }
        },
        {
          "output_type": "display_data",
          "data": {
            "image/png": "[encoded data removed]",
            "text/plain": [
              "<Figure size 576x576 with 1 Axes>"
            ]
          },
          "metadata": {
            "tags": [],
            "needs_background": "light"
          }
        },
        {
          "output_type": "display_data",
          "data": {
            "image/png": "[encoded data removed]",
            "text/plain": [
              "<Figure size 576x576 with 1 Axes>"
            ]
          },
          "metadata": {
            "tags": [],
            "needs_background": "light"
          }
        },
        {
          "output_type": "display_data",
          "data": {
            "image/png": "[encoded data removed]",
            "text/plain": [
              "<Figure size 576x576 with 1 Axes>"
            ]
          },
          "metadata": {
            "tags": [],
            "needs_background": "light"
          }
        },
        {
          "output_type": "display_data",
          "data": {
            "image/png": "[encoded data removed]",
            "text/plain": [
              "<Figure size 576x576 with 1 Axes>"
            ]
          },
          "metadata": {
            "tags": [],
            "needs_background": "light"
          }
        },
        {
          "output_type": "display_data",
          "data": {
            "image/png": "[encoded data removed]",
            "text/plain": [
              "<Figure size 576x576 with 1 Axes>"
            ]
          },
          "metadata": {
            "tags": [],
            "needs_background": "light"
          }
        },
        {
          "output_type": "display_data",
          "data": {
            "image/png": "[encoded data removed]",
            "text/plain": [
              "<Figure size 576x576 with 1 Axes>"
            ]
          },
          "metadata": {
            "tags": [],
            "needs_background": "light"
          }
        },
        {
          "output_type": "display_data",
          "data": {
            "image/png": "[encoded data removed]",
            "text/plain": [
              "<Figure size 576x576 with 1 Axes>"
            ]
          },
          "metadata": {
            "tags": [],
            "needs_background": "light"
          }
        }
      ]
    },
    {
      "cell_type": "markdown",
      "metadata": {
        "id": "O0VN6uirenoh"
      },
      "source": [
        "Archive generated dataset"
      ]
    },
    {
      "cell_type": "code",
      "metadata": {
        "id": "ZhCvrBpperpw"
      },
      "source": [
        "from zipfile import ZipFile\n",
        "import os\n",
        "from os.path import basename\n",
        "# create a ZipFile object\n",
        "with ZipFile('ds_swords.7z', 'w') as zipObj:\n",
        "   # Iterate over all the files in directory\n",
        "   for folderName, subfolders, filenames in os.walk('./ds_swords'):\n",
        "       for filename in filenames:\n",
        "           #create complete filepath of file in directory\n",
        "           filePath = os.path.join(folderName, filename)\n",
        "           # Add file to zip\n",
        "           zipObj.write(filePath, basename(filePath))"
      ],
      "execution_count": null,
      "outputs": []
    },
    {
      "cell_type": "markdown",
      "metadata": {
        "id": "Smntp3U29gh5"
      },
      "source": [
        "Misc"
      ]
    },
    {
      "cell_type": "code",
      "metadata": {
        "id": "80_COJCk_5DZ",
        "colab": {
          "base_uri": "https://localhost:8080/",
          "height": 53
        },
        "outputId": "d54c46ef-e1d5-4e49-fc95-af699205f037"
      },
      "source": [
        "import torch\n",
        "a = torch.sqrt(torch.Tensor([[1,10,100],[100,29,1]]))\n",
        "print(a**2)"
      ],
      "execution_count": null,
      "outputs": [
        {
          "output_type": "stream",
          "text": [
            "tensor([[  1.,  10., 100.],\n",
            "        [100.,  29.,   1.]])\n"
          ],
          "name": "stdout"
        }
      ]
    }
  ]
}